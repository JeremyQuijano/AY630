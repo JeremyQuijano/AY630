{
 "cells": [
  {
   "cell_type": "code",
   "execution_count": 1,
   "id": "a8a41819",
   "metadata": {},
   "outputs": [],
   "source": [
    "import numpy as np\n",
    "import astropy\n",
    "import astropy.constants as const\n",
    "import astropy.units as u"
   ]
  },
  {
   "cell_type": "markdown",
   "id": "939d5439",
   "metadata": {},
   "source": [
    "# Problem 2a"
   ]
  },
  {
   "cell_type": "code",
   "execution_count": 22,
   "id": "762eea71",
   "metadata": {},
   "outputs": [
    {
     "data": {
      "text/latex": [
       "$7.5474289 \\times 10^{10} \\; \\mathrm{M_{\\odot}}$"
      ],
      "text/plain": [
       "<Quantity 7.5474289e+10 solMass>"
      ]
     },
     "execution_count": 22,
     "metadata": {},
     "output_type": "execute_result"
    }
   ],
   "source": [
    "A = (770. / 4.) * u.kpc\n",
    "t_H = 14.4E9 * u.yr\n",
    "B = (t_H / np.pi).si\n",
    "\n",
    "(A.si**3 / (B**2 * const.G)).to(u.M_sun)"
   ]
  },
  {
   "cell_type": "code",
   "execution_count": null,
   "id": "e00dea8c",
   "metadata": {},
   "outputs": [],
   "source": []
  }
 ],
 "metadata": {
  "kernelspec": {
   "display_name": "Python [conda env:ay630]",
   "language": "python",
   "name": "conda-env-ay630-py"
  },
  "language_info": {
   "codemirror_mode": {
    "name": "ipython",
    "version": 3
   },
   "file_extension": ".py",
   "mimetype": "text/x-python",
   "name": "python",
   "nbconvert_exporter": "python",
   "pygments_lexer": "ipython3",
   "version": "3.8.11"
  }
 },
 "nbformat": 4,
 "nbformat_minor": 5
}
