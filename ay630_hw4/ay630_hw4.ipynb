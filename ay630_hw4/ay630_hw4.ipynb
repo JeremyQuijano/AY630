{
 "cells": [
  {
   "cell_type": "code",
   "execution_count": 2,
   "id": "8a17ff9b",
   "metadata": {},
   "outputs": [],
   "source": [
    "import numpy as np\n",
    "import astropy\n",
    "import astropy.constants as const\n",
    "import astropy.units as u"
   ]
  },
  {
   "cell_type": "markdown",
   "id": "6df067ae",
   "metadata": {},
   "source": [
    "# Problem 1"
   ]
  },
  {
   "cell_type": "code",
   "execution_count": 10,
   "id": "38991a54",
   "metadata": {},
   "outputs": [],
   "source": [
    "def rho_0(sigma_z, z_0):\n",
    "    return (sigma_z**2) / (8 * np.pi * const.G * z_0**2)"
   ]
  },
  {
   "cell_type": "code",
   "execution_count": 48,
   "id": "7f269334",
   "metadata": {},
   "outputs": [
    {
     "name": "stdout",
     "output_type": "stream",
     "text": [
      "Alpha-Poor Population Density: 2.7827283213824705e-21 kg / m3\n",
      "Alpha-Poor Population Density: 0.0411165373697527 solMass / pc3\n",
      "\n",
      "Alpha-Rich Population Density: 2.445757313715062e-21 kg / m3\n",
      "Alpha-Poor Population Density: 0.03613758167263421 solMass / pc3\n"
     ]
    }
   ],
   "source": [
    "sigma_z_poor = 20000 * u.m / u.s\n",
    "sigma_z_rich = 50000 * u.m / u.s\n",
    "\n",
    "z_0_poor = 300.0 * u.parsec\n",
    "z_0_rich = 800.0 * u.parsec\n",
    "\n",
    "rho_0_poor = rho_0(sigma_z_poor, z_0_poor.si)\n",
    "rho_0_rich = rho_0(sigma_z_rich, z_0_rich.si)\n",
    "print('Alpha-Poor Population Density:', rho_0_poor)\n",
    "print('Alpha-Poor Population Density:', rho_0_poor.to(u.M_sun / u.pc**3))\n",
    "print()\n",
    "print('Alpha-Rich Population Density:', rho_0_rich)\n",
    "print('Alpha-Poor Population Density:', rho_0_rich.to(u.M_sun / u.pc**3))"
   ]
  },
  {
   "cell_type": "markdown",
   "id": "2d65a9a4",
   "metadata": {},
   "source": [
    "# Problem 2"
   ]
  },
  {
   "cell_type": "code",
   "execution_count": 76,
   "id": "fba30e70",
   "metadata": {},
   "outputs": [],
   "source": [
    "def mass_enclosed(r, sigma0, R0):\n",
    "    return (((128 * sigma0**2 * r**3) / (3 * np.pi * const.G * R0**2)) * (1 + (r / R0)**2)**(-3/2)).to(u.Msun)\n",
    "\n",
    "def mass_enclosed2(r, sigma0, R0):\n",
    "    return (((128 * sigma0**2 * R0) / (3 * np.pi * const.G)) * ((R0**2 / r**2) + 1)**(-3/2)).to(u.Msun)\n",
    "\n",
    "\n",
    "def luminosity(I0, R0):\n",
    "    return ((I0.si * R0.si**2) / 2).to(u.Lsun)"
   ]
  },
  {
   "cell_type": "code",
   "execution_count": 79,
   "id": "c4af8940",
   "metadata": {},
   "outputs": [
    {
     "name": "stdout",
     "output_type": "stream",
     "text": [
      "60628.80134394246 solMass\n",
      "60628.801343942476 solMass\n",
      "3600.0000000000005 solLum\n",
      "16.841333706650687 solMass / solLum\n"
     ]
    }
   ],
   "source": [
    "r = 10000. * u.kpc\n",
    "sigma0 = 8. * (u.km / u.s)\n",
    "R0 = 0.3 * u.pc\n",
    "I0 = 8.0E4 * (u.Lsun / u.pc**2)\n",
    "\n",
    "\n",
    "\n",
    "mass = mass_enclosed(r, sigma0, R0)\n",
    "print(mass.to(u.Msun))\n",
    "\n",
    "mass = mass_enclosed2(r, sigma0, R0)\n",
    "print(mass.to(u.Msun))\n",
    "\n",
    "lum = luminosity(I0, R0)\n",
    "print(lum.to(u.Lsun))\n",
    "\n",
    "ml = mass / lum\n",
    "print(ml)"
   ]
  },
  {
   "cell_type": "code",
   "execution_count": null,
   "id": "efae1e53",
   "metadata": {},
   "outputs": [],
   "source": []
  },
  {
   "cell_type": "code",
   "execution_count": null,
   "id": "d9b94537",
   "metadata": {},
   "outputs": [],
   "source": []
  }
 ],
 "metadata": {
  "kernelspec": {
   "display_name": "Python [conda env:ay630]",
   "language": "python",
   "name": "conda-env-ay630-py"
  },
  "language_info": {
   "codemirror_mode": {
    "name": "ipython",
    "version": 3
   },
   "file_extension": ".py",
   "mimetype": "text/x-python",
   "name": "python",
   "nbconvert_exporter": "python",
   "pygments_lexer": "ipython3",
   "version": "3.8.11"
  }
 },
 "nbformat": 4,
 "nbformat_minor": 5
}
